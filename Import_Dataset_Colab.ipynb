{
  "nbformat": 4,
  "nbformat_minor": 0,
  "metadata": {
    "colab": {
      "name": "Import-Dataset-Colab.ipynb",
      "provenance": [],
      "authorship_tag": "ABX9TyOUA0N6JkP5DIZ62X+Wc5MQ",
      "include_colab_link": true
    },
    "kernelspec": {
      "name": "python3",
      "display_name": "Python 3"
    }
  },
  "cells": [
    {
      "cell_type": "markdown",
      "metadata": {
        "id": "view-in-github",
        "colab_type": "text"
      },
      "source": [
        "<a href=\"https://colab.research.google.com/github/scudilio/Visualizacao_de_dados/blob/master/Import_Dataset_Colab.ipynb\" target=\"_parent\"><img src=\"https://colab.research.google.com/assets/colab-badge.svg\" alt=\"Open In Colab\"/></a>"
      ]
    },
    {
      "cell_type": "markdown",
      "metadata": {
        "id": "DSJI-fJvEO43",
        "colab_type": "text"
      },
      "source": [
        "#**3 Maneiras de Importar um Conjunto de Dados para o Google Colab**\n",
        "\n",
        "O Google Colab é uma plataforma gratuita do Google que permite utilizar o Python na nuvem.\n",
        "\n",
        "Ele é excelente para criar notebooks em Python e oferece GPU grátis para processar seus dados. Porém, existem algumas peculiaridades ao utilizá-lo, uma delas é a importação de dados. \n",
        "\n",
        "Esse artigo visa ensinar três maneiras distintas para você importar seus dados no Google Colab. \n",
        "\n",
        "1. Importando os dados do Google Drive.\n",
        "2. Importando os dados de um Drive local.\n",
        "3. Importando os dados do Github.\n",
        "\n",
        "\n",
        "## **Importando Dataset do Drive**\n",
        "\n",
        "Uma das maneiras de importar o conjunto de dados para o Colab é salvar o dataset no Google Drive e depois importar o mesmo para o Colab. \n",
        "\n",
        "Para isso precisamos permitir o acesso do Google Colab ao drive. Para acessar o drive, siga os seguintes passos;\n",
        "\n",
        "1. Rode os comandos a baixo.\n",
        "2. Clique no link.\n",
        "3. Na janela que abriu, clique na sua conta do Google.\n",
        "4. Copie o código de acesso.\n",
        "5. Cole o código na caixa abaixo.\n",
        "\n"
      ]
    },
    {
      "cell_type": "code",
      "metadata": {
        "id": "Hn6zLi54GJ1J",
        "colab_type": "code",
        "colab": {}
      },
      "source": [
        "#Acesso ao drive\n",
        "from google.colab import drive\n",
        "drive.mount('/content/drive')"
      ],
      "execution_count": null,
      "outputs": []
    },
    {
      "cell_type": "code",
      "metadata": {
        "id": "IVLQuEd-GOV5",
        "colab_type": "code",
        "colab": {}
      },
      "source": [
        "##IMPORTANDO o data set\n",
        "import pandas as pd\n",
        "df= pd.read_excel('/content/drive/My Drive/kaggle_datasets/gapminder_final.xlsx')\n",
        "df.head()"
      ],
      "execution_count": null,
      "outputs": []
    },
    {
      "cell_type": "markdown",
      "metadata": {
        "id": "7BYJxNVAGPTM",
        "colab_type": "text"
      },
      "source": [
        "##**Importando o Dataset um Drive Local**\n",
        "\n",
        "Se o conjunto de dados estiver salvo no seu computador, podemos utilizar os comandos a seguir para importar o dataset.\n",
        "\n",
        "\n"
      ]
    },
    {
      "cell_type": "code",
      "metadata": {
        "id": "Cp_Os2tsG02p",
        "colab_type": "code",
        "colab": {}
      },
      "source": [
        "from google.colab import files\n",
        "uploaded = files.upload()"
      ],
      "execution_count": null,
      "outputs": []
    },
    {
      "cell_type": "code",
      "metadata": {
        "id": "rJNN84j7G1QV",
        "colab_type": "code",
        "colab": {}
      },
      "source": [
        "df= pd.read_excel('gapminder_final.xlsx')\n",
        "\n",
        "df.head()"
      ],
      "execution_count": null,
      "outputs": []
    },
    {
      "cell_type": "markdown",
      "metadata": {
        "id": "PRSMB8MgJDGe",
        "colab_type": "text"
      },
      "source": [
        "##**3. Importando o Dataset do Github**\n",
        "\n",
        "A maneira mais simples de importar o dataset para o Google Colab é utilizando o seu repósitorio do Github.\n",
        "\n",
        "Para isso é só salvar o conjunto de dados no seu repositório, copiar a url do dataset e adicionar \"?raw=true\" ao final da url.\n",
        "\n",
        "Se for um arquivo csv é só clicar no dataset e depois clique em raw e copiar a url."
      ]
    },
    {
      "cell_type": "code",
      "metadata": {
        "id": "DqtXYrt4J8V8",
        "colab_type": "code",
        "colab": {}
      },
      "source": [
        "url = ('https://github.com/scudilio/Visualizacao_de_dados/blob/master/datasets/gapminder_final.xlsx?raw=true')\n",
        "df = pd.read_excel(url)"
      ],
      "execution_count": null,
      "outputs": []
    },
    {
      "cell_type": "markdown",
      "metadata": {
        "id": "neC3-1C7Kwua",
        "colab_type": "text"
      },
      "source": [
        "Pronto essa são as três maneiras que você pode utilizar para importar seus dados para o Google Colab.\n",
        "\n",
        "Agora você já pode começar suas análise de dados. "
      ]
    }
  ]
}